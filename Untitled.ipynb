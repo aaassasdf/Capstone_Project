{
 "cells": [
  {
   "cell_type": "code",
   "execution_count": 2,
   "id": "bea424bf-57fe-4f61-8542-e62034d63bbe",
   "metadata": {},
   "outputs": [],
   "source": [
    "import numpy as np\n",
    "import pandas as pd"
   ]
  },
  {
   "cell_type": "code",
   "execution_count": 3,
   "id": "60515c6e-b35e-41b4-8de1-34935f248b11",
   "metadata": {},
   "outputs": [],
   "source": [
    "data_path = \"E-commerce Dataset/E-commerce Dataset.csv\""
   ]
  },
  {
   "cell_type": "code",
   "execution_count": 4,
   "id": "0a32192a-4815-48ec-bded-506f59d0958f",
   "metadata": {},
   "outputs": [],
   "source": [
    "import chardet\n",
    "with open(data_path,'rb') as f:\n",
    "    data = f.readline()\n",
    "encoding = chardet.detect(data)['encoding']"
   ]
  },
  {
   "cell_type": "code",
   "execution_count": 5,
   "id": "e6ee241a-1226-4408-9cb4-f8fbb0ff57ea",
   "metadata": {},
   "outputs": [
    {
     "data": {
      "text/plain": [
       "'ascii'"
      ]
     },
     "execution_count": 5,
     "metadata": {},
     "output_type": "execute_result"
    }
   ],
   "source": [
    "encoding"
   ]
  },
  {
   "cell_type": "code",
   "execution_count": 6,
   "id": "c9b0bcd6-6636-4b7f-bc2a-c65d54517b5d",
   "metadata": {},
   "outputs": [],
   "source": [
    "df = pd.read_csv(data_path,encoding=encoding)"
   ]
  },
  {
   "cell_type": "code",
   "execution_count": 7,
   "id": "c7b56b3c-d089-4a61-ba04-566b7a19a21a",
   "metadata": {},
   "outputs": [
    {
     "data": {
      "text/html": [
       "<div>\n",
       "<style scoped>\n",
       "    .dataframe tbody tr th:only-of-type {\n",
       "        vertical-align: middle;\n",
       "    }\n",
       "\n",
       "    .dataframe tbody tr th {\n",
       "        vertical-align: top;\n",
       "    }\n",
       "\n",
       "    .dataframe thead th {\n",
       "        text-align: right;\n",
       "    }\n",
       "</style>\n",
       "<table border=\"1\" class=\"dataframe\">\n",
       "  <thead>\n",
       "    <tr style=\"text-align: right;\">\n",
       "      <th></th>\n",
       "      <th>Order_Date</th>\n",
       "      <th>Time</th>\n",
       "      <th>Aging</th>\n",
       "      <th>Customer_Id</th>\n",
       "      <th>Gender</th>\n",
       "      <th>Device_Type</th>\n",
       "      <th>Customer_Login_type</th>\n",
       "      <th>Product_Category</th>\n",
       "      <th>Product</th>\n",
       "      <th>Sales</th>\n",
       "      <th>Quantity</th>\n",
       "      <th>Discount</th>\n",
       "      <th>Profit</th>\n",
       "      <th>Shipping_Cost</th>\n",
       "      <th>Order_Priority</th>\n",
       "      <th>Payment_method</th>\n",
       "    </tr>\n",
       "  </thead>\n",
       "  <tbody>\n",
       "    <tr>\n",
       "      <th>0</th>\n",
       "      <td>2018-01-02</td>\n",
       "      <td>10:56:33</td>\n",
       "      <td>8.0</td>\n",
       "      <td>37077</td>\n",
       "      <td>Female</td>\n",
       "      <td>Web</td>\n",
       "      <td>Member</td>\n",
       "      <td>Auto &amp; Accessories</td>\n",
       "      <td>Car Media Players</td>\n",
       "      <td>140.0</td>\n",
       "      <td>1.0</td>\n",
       "      <td>0.3</td>\n",
       "      <td>46.0</td>\n",
       "      <td>4.6</td>\n",
       "      <td>Medium</td>\n",
       "      <td>credit_card</td>\n",
       "    </tr>\n",
       "    <tr>\n",
       "      <th>1</th>\n",
       "      <td>2018-07-24</td>\n",
       "      <td>20:41:37</td>\n",
       "      <td>2.0</td>\n",
       "      <td>59173</td>\n",
       "      <td>Female</td>\n",
       "      <td>Web</td>\n",
       "      <td>Member</td>\n",
       "      <td>Auto &amp; Accessories</td>\n",
       "      <td>Car Speakers</td>\n",
       "      <td>211.0</td>\n",
       "      <td>1.0</td>\n",
       "      <td>0.3</td>\n",
       "      <td>112.0</td>\n",
       "      <td>11.2</td>\n",
       "      <td>Medium</td>\n",
       "      <td>credit_card</td>\n",
       "    </tr>\n",
       "    <tr>\n",
       "      <th>2</th>\n",
       "      <td>2018-11-08</td>\n",
       "      <td>08:38:49</td>\n",
       "      <td>8.0</td>\n",
       "      <td>41066</td>\n",
       "      <td>Female</td>\n",
       "      <td>Web</td>\n",
       "      <td>Member</td>\n",
       "      <td>Auto &amp; Accessories</td>\n",
       "      <td>Car Body Covers</td>\n",
       "      <td>117.0</td>\n",
       "      <td>5.0</td>\n",
       "      <td>0.1</td>\n",
       "      <td>31.2</td>\n",
       "      <td>3.1</td>\n",
       "      <td>Critical</td>\n",
       "      <td>credit_card</td>\n",
       "    </tr>\n",
       "    <tr>\n",
       "      <th>3</th>\n",
       "      <td>2018-04-18</td>\n",
       "      <td>19:28:06</td>\n",
       "      <td>7.0</td>\n",
       "      <td>50741</td>\n",
       "      <td>Female</td>\n",
       "      <td>Web</td>\n",
       "      <td>Member</td>\n",
       "      <td>Auto &amp; Accessories</td>\n",
       "      <td>Car &amp; Bike Care</td>\n",
       "      <td>118.0</td>\n",
       "      <td>1.0</td>\n",
       "      <td>0.3</td>\n",
       "      <td>26.2</td>\n",
       "      <td>2.6</td>\n",
       "      <td>High</td>\n",
       "      <td>credit_card</td>\n",
       "    </tr>\n",
       "    <tr>\n",
       "      <th>4</th>\n",
       "      <td>2018-08-13</td>\n",
       "      <td>21:18:39</td>\n",
       "      <td>9.0</td>\n",
       "      <td>53639</td>\n",
       "      <td>Female</td>\n",
       "      <td>Web</td>\n",
       "      <td>Member</td>\n",
       "      <td>Auto &amp; Accessories</td>\n",
       "      <td>Tyre</td>\n",
       "      <td>250.0</td>\n",
       "      <td>1.0</td>\n",
       "      <td>0.3</td>\n",
       "      <td>160.0</td>\n",
       "      <td>16.0</td>\n",
       "      <td>Critical</td>\n",
       "      <td>credit_card</td>\n",
       "    </tr>\n",
       "  </tbody>\n",
       "</table>\n",
       "</div>"
      ],
      "text/plain": [
       "   Order_Date      Time  Aging  Customer_Id  Gender Device_Type  \\\n",
       "0  2018-01-02  10:56:33    8.0        37077  Female         Web   \n",
       "1  2018-07-24  20:41:37    2.0        59173  Female         Web   \n",
       "2  2018-11-08  08:38:49    8.0        41066  Female         Web   \n",
       "3  2018-04-18  19:28:06    7.0        50741  Female         Web   \n",
       "4  2018-08-13  21:18:39    9.0        53639  Female         Web   \n",
       "\n",
       "  Customer_Login_type    Product_Category            Product  Sales  Quantity  \\\n",
       "0              Member  Auto & Accessories  Car Media Players  140.0       1.0   \n",
       "1              Member  Auto & Accessories       Car Speakers  211.0       1.0   \n",
       "2              Member  Auto & Accessories    Car Body Covers  117.0       5.0   \n",
       "3              Member  Auto & Accessories    Car & Bike Care  118.0       1.0   \n",
       "4              Member  Auto & Accessories               Tyre  250.0       1.0   \n",
       "\n",
       "   Discount  Profit  Shipping_Cost Order_Priority Payment_method  \n",
       "0       0.3    46.0            4.6         Medium    credit_card  \n",
       "1       0.3   112.0           11.2         Medium    credit_card  \n",
       "2       0.1    31.2            3.1       Critical    credit_card  \n",
       "3       0.3    26.2            2.6           High    credit_card  \n",
       "4       0.3   160.0           16.0       Critical    credit_card  "
      ]
     },
     "execution_count": 7,
     "metadata": {},
     "output_type": "execute_result"
    }
   ],
   "source": [
    "df.head()"
   ]
  },
  {
   "cell_type": "code",
   "execution_count": 8,
   "id": "1b5046ba-ddc0-407f-a304-f5e90be2b6f1",
   "metadata": {},
   "outputs": [
    {
     "name": "stdout",
     "output_type": "stream",
     "text": [
      "<class 'pandas.core.frame.DataFrame'>\n",
      "RangeIndex: 51290 entries, 0 to 51289\n",
      "Data columns (total 16 columns):\n",
      " #   Column               Non-Null Count  Dtype  \n",
      "---  ------               --------------  -----  \n",
      " 0   Order_Date           51290 non-null  object \n",
      " 1   Time                 51290 non-null  object \n",
      " 2   Aging                51289 non-null  float64\n",
      " 3   Customer_Id          51290 non-null  int64  \n",
      " 4   Gender               51290 non-null  object \n",
      " 5   Device_Type          51290 non-null  object \n",
      " 6   Customer_Login_type  51290 non-null  object \n",
      " 7   Product_Category     51290 non-null  object \n",
      " 8   Product              51290 non-null  object \n",
      " 9   Sales                51289 non-null  float64\n",
      " 10  Quantity             51288 non-null  float64\n",
      " 11  Discount             51289 non-null  float64\n",
      " 12  Profit               51290 non-null  float64\n",
      " 13  Shipping_Cost        51289 non-null  float64\n",
      " 14  Order_Priority       51288 non-null  object \n",
      " 15  Payment_method       51290 non-null  object \n",
      "dtypes: float64(6), int64(1), object(9)\n",
      "memory usage: 6.3+ MB\n"
     ]
    }
   ],
   "source": [
    "df.info()"
   ]
  },
  {
   "cell_type": "code",
   "execution_count": 9,
   "id": "bba9a0dd-51e2-4456-a64c-c6850ce3ef24",
   "metadata": {},
   "outputs": [
    {
     "data": {
      "text/html": [
       "<div>\n",
       "<style scoped>\n",
       "    .dataframe tbody tr th:only-of-type {\n",
       "        vertical-align: middle;\n",
       "    }\n",
       "\n",
       "    .dataframe tbody tr th {\n",
       "        vertical-align: top;\n",
       "    }\n",
       "\n",
       "    .dataframe thead th {\n",
       "        text-align: right;\n",
       "    }\n",
       "</style>\n",
       "<table border=\"1\" class=\"dataframe\">\n",
       "  <thead>\n",
       "    <tr style=\"text-align: right;\">\n",
       "      <th></th>\n",
       "      <th>Aging</th>\n",
       "      <th>Customer_Id</th>\n",
       "      <th>Sales</th>\n",
       "      <th>Quantity</th>\n",
       "      <th>Discount</th>\n",
       "      <th>Profit</th>\n",
       "      <th>Shipping_Cost</th>\n",
       "    </tr>\n",
       "  </thead>\n",
       "  <tbody>\n",
       "    <tr>\n",
       "      <th>count</th>\n",
       "      <td>51289.000000</td>\n",
       "      <td>51290.000000</td>\n",
       "      <td>51289.000000</td>\n",
       "      <td>51288.000000</td>\n",
       "      <td>51289.000000</td>\n",
       "      <td>51290.000000</td>\n",
       "      <td>51289.000000</td>\n",
       "    </tr>\n",
       "    <tr>\n",
       "      <th>mean</th>\n",
       "      <td>5.255035</td>\n",
       "      <td>58155.758764</td>\n",
       "      <td>152.340872</td>\n",
       "      <td>2.502983</td>\n",
       "      <td>0.303821</td>\n",
       "      <td>70.407226</td>\n",
       "      <td>7.041557</td>\n",
       "    </tr>\n",
       "    <tr>\n",
       "      <th>std</th>\n",
       "      <td>2.959948</td>\n",
       "      <td>26032.215826</td>\n",
       "      <td>66.495419</td>\n",
       "      <td>1.511859</td>\n",
       "      <td>0.131027</td>\n",
       "      <td>48.729488</td>\n",
       "      <td>4.871745</td>\n",
       "    </tr>\n",
       "    <tr>\n",
       "      <th>min</th>\n",
       "      <td>1.000000</td>\n",
       "      <td>10000.000000</td>\n",
       "      <td>33.000000</td>\n",
       "      <td>1.000000</td>\n",
       "      <td>0.100000</td>\n",
       "      <td>0.500000</td>\n",
       "      <td>0.100000</td>\n",
       "    </tr>\n",
       "    <tr>\n",
       "      <th>25%</th>\n",
       "      <td>3.000000</td>\n",
       "      <td>35831.250000</td>\n",
       "      <td>85.000000</td>\n",
       "      <td>1.000000</td>\n",
       "      <td>0.200000</td>\n",
       "      <td>24.900000</td>\n",
       "      <td>2.500000</td>\n",
       "    </tr>\n",
       "    <tr>\n",
       "      <th>50%</th>\n",
       "      <td>5.000000</td>\n",
       "      <td>61018.000000</td>\n",
       "      <td>133.000000</td>\n",
       "      <td>2.000000</td>\n",
       "      <td>0.300000</td>\n",
       "      <td>59.900000</td>\n",
       "      <td>6.000000</td>\n",
       "    </tr>\n",
       "    <tr>\n",
       "      <th>75%</th>\n",
       "      <td>8.000000</td>\n",
       "      <td>80736.250000</td>\n",
       "      <td>218.000000</td>\n",
       "      <td>4.000000</td>\n",
       "      <td>0.400000</td>\n",
       "      <td>118.400000</td>\n",
       "      <td>11.800000</td>\n",
       "    </tr>\n",
       "    <tr>\n",
       "      <th>max</th>\n",
       "      <td>10.500000</td>\n",
       "      <td>99999.000000</td>\n",
       "      <td>250.000000</td>\n",
       "      <td>5.000000</td>\n",
       "      <td>0.500000</td>\n",
       "      <td>167.500000</td>\n",
       "      <td>16.800000</td>\n",
       "    </tr>\n",
       "  </tbody>\n",
       "</table>\n",
       "</div>"
      ],
      "text/plain": [
       "              Aging   Customer_Id         Sales      Quantity      Discount  \\\n",
       "count  51289.000000  51290.000000  51289.000000  51288.000000  51289.000000   \n",
       "mean       5.255035  58155.758764    152.340872      2.502983      0.303821   \n",
       "std        2.959948  26032.215826     66.495419      1.511859      0.131027   \n",
       "min        1.000000  10000.000000     33.000000      1.000000      0.100000   \n",
       "25%        3.000000  35831.250000     85.000000      1.000000      0.200000   \n",
       "50%        5.000000  61018.000000    133.000000      2.000000      0.300000   \n",
       "75%        8.000000  80736.250000    218.000000      4.000000      0.400000   \n",
       "max       10.500000  99999.000000    250.000000      5.000000      0.500000   \n",
       "\n",
       "             Profit  Shipping_Cost  \n",
       "count  51290.000000   51289.000000  \n",
       "mean      70.407226       7.041557  \n",
       "std       48.729488       4.871745  \n",
       "min        0.500000       0.100000  \n",
       "25%       24.900000       2.500000  \n",
       "50%       59.900000       6.000000  \n",
       "75%      118.400000      11.800000  \n",
       "max      167.500000      16.800000  "
      ]
     },
     "execution_count": 9,
     "metadata": {},
     "output_type": "execute_result"
    }
   ],
   "source": [
    "df.describe()"
   ]
  },
  {
   "cell_type": "code",
   "execution_count": 10,
   "id": "edc94cd4-9421-4965-ab0a-44493b4c3b63",
   "metadata": {},
   "outputs": [
    {
     "data": {
      "text/plain": [
       "Order_Date             0\n",
       "Time                   0\n",
       "Aging                  1\n",
       "Customer_Id            0\n",
       "Gender                 0\n",
       "Device_Type            0\n",
       "Customer_Login_type    0\n",
       "Product_Category       0\n",
       "Product                0\n",
       "Sales                  1\n",
       "Quantity               2\n",
       "Discount               1\n",
       "Profit                 0\n",
       "Shipping_Cost          1\n",
       "Order_Priority         2\n",
       "Payment_method         0\n",
       "dtype: int64"
      ]
     },
     "execution_count": 10,
     "metadata": {},
     "output_type": "execute_result"
    }
   ],
   "source": [
    "df.isnull().sum()"
   ]
  },
  {
   "cell_type": "code",
   "execution_count": 11,
   "id": "62d2a5ae-9bc7-4f37-bbe7-4596bfbc833b",
   "metadata": {},
   "outputs": [
    {
     "data": {
      "text/plain": [
       "Order_Date             0\n",
       "Time                   0\n",
       "Aging                  0\n",
       "Customer_Id            0\n",
       "Gender                 0\n",
       "Device_Type            0\n",
       "Customer_Login_type    0\n",
       "Product_Category       0\n",
       "Product                0\n",
       "Sales                  0\n",
       "Quantity               0\n",
       "Discount               0\n",
       "Profit                 0\n",
       "Shipping_Cost          0\n",
       "Order_Priority         0\n",
       "Payment_method         0\n",
       "dtype: int64"
      ]
     },
     "execution_count": 11,
     "metadata": {},
     "output_type": "execute_result"
    }
   ],
   "source": [
    "df = df.dropna()\n",
    "df.isnull().sum()"
   ]
  },
  {
   "cell_type": "code",
   "execution_count": 13,
   "id": "1bd35391-15a4-4120-ae5c-bf46acf19809",
   "metadata": {},
   "outputs": [
    {
     "data": {
      "text/html": [
       "<div>\n",
       "<style scoped>\n",
       "    .dataframe tbody tr th:only-of-type {\n",
       "        vertical-align: middle;\n",
       "    }\n",
       "\n",
       "    .dataframe tbody tr th {\n",
       "        vertical-align: top;\n",
       "    }\n",
       "\n",
       "    .dataframe thead th {\n",
       "        text-align: right;\n",
       "    }\n",
       "</style>\n",
       "<table border=\"1\" class=\"dataframe\">\n",
       "  <thead>\n",
       "    <tr style=\"text-align: right;\">\n",
       "      <th></th>\n",
       "      <th>Aging</th>\n",
       "      <th>Customer_Id</th>\n",
       "      <th>Sales</th>\n",
       "      <th>Quantity</th>\n",
       "      <th>Discount</th>\n",
       "      <th>Profit</th>\n",
       "      <th>Shipping_Cost</th>\n",
       "    </tr>\n",
       "  </thead>\n",
       "  <tbody>\n",
       "    <tr>\n",
       "      <th>count</th>\n",
       "      <td>51282.000000</td>\n",
       "      <td>51282.000000</td>\n",
       "      <td>51282.000000</td>\n",
       "      <td>51282.000000</td>\n",
       "      <td>51282.000000</td>\n",
       "      <td>51282.000000</td>\n",
       "      <td>51282.000000</td>\n",
       "    </tr>\n",
       "    <tr>\n",
       "      <th>mean</th>\n",
       "      <td>5.255187</td>\n",
       "      <td>58159.746656</td>\n",
       "      <td>152.337350</td>\n",
       "      <td>2.502964</td>\n",
       "      <td>0.303838</td>\n",
       "      <td>70.401796</td>\n",
       "      <td>7.041166</td>\n",
       "    </tr>\n",
       "    <tr>\n",
       "      <th>std</th>\n",
       "      <td>2.960073</td>\n",
       "      <td>26031.763189</td>\n",
       "      <td>66.492468</td>\n",
       "      <td>1.511834</td>\n",
       "      <td>0.131025</td>\n",
       "      <td>48.728131</td>\n",
       "      <td>4.871685</td>\n",
       "    </tr>\n",
       "    <tr>\n",
       "      <th>min</th>\n",
       "      <td>1.000000</td>\n",
       "      <td>10000.000000</td>\n",
       "      <td>33.000000</td>\n",
       "      <td>1.000000</td>\n",
       "      <td>0.100000</td>\n",
       "      <td>0.500000</td>\n",
       "      <td>0.100000</td>\n",
       "    </tr>\n",
       "    <tr>\n",
       "      <th>25%</th>\n",
       "      <td>3.000000</td>\n",
       "      <td>35841.500000</td>\n",
       "      <td>85.000000</td>\n",
       "      <td>1.000000</td>\n",
       "      <td>0.200000</td>\n",
       "      <td>24.900000</td>\n",
       "      <td>2.500000</td>\n",
       "    </tr>\n",
       "    <tr>\n",
       "      <th>50%</th>\n",
       "      <td>5.000000</td>\n",
       "      <td>61021.500000</td>\n",
       "      <td>133.000000</td>\n",
       "      <td>2.000000</td>\n",
       "      <td>0.300000</td>\n",
       "      <td>59.900000</td>\n",
       "      <td>6.000000</td>\n",
       "    </tr>\n",
       "    <tr>\n",
       "      <th>75%</th>\n",
       "      <td>8.000000</td>\n",
       "      <td>80739.250000</td>\n",
       "      <td>218.000000</td>\n",
       "      <td>4.000000</td>\n",
       "      <td>0.400000</td>\n",
       "      <td>118.400000</td>\n",
       "      <td>11.800000</td>\n",
       "    </tr>\n",
       "    <tr>\n",
       "      <th>max</th>\n",
       "      <td>10.500000</td>\n",
       "      <td>99999.000000</td>\n",
       "      <td>250.000000</td>\n",
       "      <td>5.000000</td>\n",
       "      <td>0.500000</td>\n",
       "      <td>167.500000</td>\n",
       "      <td>16.800000</td>\n",
       "    </tr>\n",
       "  </tbody>\n",
       "</table>\n",
       "</div>"
      ],
      "text/plain": [
       "              Aging   Customer_Id         Sales      Quantity      Discount  \\\n",
       "count  51282.000000  51282.000000  51282.000000  51282.000000  51282.000000   \n",
       "mean       5.255187  58159.746656    152.337350      2.502964      0.303838   \n",
       "std        2.960073  26031.763189     66.492468      1.511834      0.131025   \n",
       "min        1.000000  10000.000000     33.000000      1.000000      0.100000   \n",
       "25%        3.000000  35841.500000     85.000000      1.000000      0.200000   \n",
       "50%        5.000000  61021.500000    133.000000      2.000000      0.300000   \n",
       "75%        8.000000  80739.250000    218.000000      4.000000      0.400000   \n",
       "max       10.500000  99999.000000    250.000000      5.000000      0.500000   \n",
       "\n",
       "             Profit  Shipping_Cost  \n",
       "count  51282.000000   51282.000000  \n",
       "mean      70.401796       7.041166  \n",
       "std       48.728131       4.871685  \n",
       "min        0.500000       0.100000  \n",
       "25%       24.900000       2.500000  \n",
       "50%       59.900000       6.000000  \n",
       "75%      118.400000      11.800000  \n",
       "max      167.500000      16.800000  "
      ]
     },
     "execution_count": 13,
     "metadata": {},
     "output_type": "execute_result"
    }
   ],
   "source": [
    "df.describe()"
   ]
  },
  {
   "cell_type": "code",
   "execution_count": 48,
   "id": "2738c6b1-c2cf-492c-ab1a-1e3901e49741",
   "metadata": {},
   "outputs": [],
   "source": [
    "df['order_datetime'] = df['Order_Date']+\" \"+df['Time']"
   ]
  },
  {
   "cell_type": "code",
   "execution_count": 49,
   "id": "190e2146-6673-420b-a322-39785acd27e7",
   "metadata": {},
   "outputs": [
    {
     "data": {
      "text/html": [
       "<div>\n",
       "<style scoped>\n",
       "    .dataframe tbody tr th:only-of-type {\n",
       "        vertical-align: middle;\n",
       "    }\n",
       "\n",
       "    .dataframe tbody tr th {\n",
       "        vertical-align: top;\n",
       "    }\n",
       "\n",
       "    .dataframe thead th {\n",
       "        text-align: right;\n",
       "    }\n",
       "</style>\n",
       "<table border=\"1\" class=\"dataframe\">\n",
       "  <thead>\n",
       "    <tr style=\"text-align: right;\">\n",
       "      <th></th>\n",
       "      <th>Order_Date</th>\n",
       "      <th>Time</th>\n",
       "      <th>Aging</th>\n",
       "      <th>Customer_Id</th>\n",
       "      <th>Gender</th>\n",
       "      <th>Device_Type</th>\n",
       "      <th>Customer_Login_type</th>\n",
       "      <th>Product_Category</th>\n",
       "      <th>Product</th>\n",
       "      <th>Sales</th>\n",
       "      <th>Quantity</th>\n",
       "      <th>Discount</th>\n",
       "      <th>Profit</th>\n",
       "      <th>Shipping_Cost</th>\n",
       "      <th>Order_Priority</th>\n",
       "      <th>Payment_method</th>\n",
       "      <th>order_datetime</th>\n",
       "    </tr>\n",
       "  </thead>\n",
       "  <tbody>\n",
       "    <tr>\n",
       "      <th>0</th>\n",
       "      <td>2018-01-02</td>\n",
       "      <td>10:56:33</td>\n",
       "      <td>8.0</td>\n",
       "      <td>37077</td>\n",
       "      <td>Female</td>\n",
       "      <td>Web</td>\n",
       "      <td>Member</td>\n",
       "      <td>Auto &amp; Accessories</td>\n",
       "      <td>Car Media Players</td>\n",
       "      <td>140.0</td>\n",
       "      <td>1.0</td>\n",
       "      <td>0.3</td>\n",
       "      <td>46.0</td>\n",
       "      <td>4.6</td>\n",
       "      <td>Medium</td>\n",
       "      <td>credit_card</td>\n",
       "      <td>2018-01-02 10:56:33</td>\n",
       "    </tr>\n",
       "    <tr>\n",
       "      <th>1</th>\n",
       "      <td>2018-07-24</td>\n",
       "      <td>20:41:37</td>\n",
       "      <td>2.0</td>\n",
       "      <td>59173</td>\n",
       "      <td>Female</td>\n",
       "      <td>Web</td>\n",
       "      <td>Member</td>\n",
       "      <td>Auto &amp; Accessories</td>\n",
       "      <td>Car Speakers</td>\n",
       "      <td>211.0</td>\n",
       "      <td>1.0</td>\n",
       "      <td>0.3</td>\n",
       "      <td>112.0</td>\n",
       "      <td>11.2</td>\n",
       "      <td>Medium</td>\n",
       "      <td>credit_card</td>\n",
       "      <td>2018-07-24 20:41:37</td>\n",
       "    </tr>\n",
       "    <tr>\n",
       "      <th>2</th>\n",
       "      <td>2018-11-08</td>\n",
       "      <td>08:38:49</td>\n",
       "      <td>8.0</td>\n",
       "      <td>41066</td>\n",
       "      <td>Female</td>\n",
       "      <td>Web</td>\n",
       "      <td>Member</td>\n",
       "      <td>Auto &amp; Accessories</td>\n",
       "      <td>Car Body Covers</td>\n",
       "      <td>117.0</td>\n",
       "      <td>5.0</td>\n",
       "      <td>0.1</td>\n",
       "      <td>31.2</td>\n",
       "      <td>3.1</td>\n",
       "      <td>Critical</td>\n",
       "      <td>credit_card</td>\n",
       "      <td>2018-11-08 08:38:49</td>\n",
       "    </tr>\n",
       "    <tr>\n",
       "      <th>3</th>\n",
       "      <td>2018-04-18</td>\n",
       "      <td>19:28:06</td>\n",
       "      <td>7.0</td>\n",
       "      <td>50741</td>\n",
       "      <td>Female</td>\n",
       "      <td>Web</td>\n",
       "      <td>Member</td>\n",
       "      <td>Auto &amp; Accessories</td>\n",
       "      <td>Car &amp; Bike Care</td>\n",
       "      <td>118.0</td>\n",
       "      <td>1.0</td>\n",
       "      <td>0.3</td>\n",
       "      <td>26.2</td>\n",
       "      <td>2.6</td>\n",
       "      <td>High</td>\n",
       "      <td>credit_card</td>\n",
       "      <td>2018-04-18 19:28:06</td>\n",
       "    </tr>\n",
       "    <tr>\n",
       "      <th>4</th>\n",
       "      <td>2018-08-13</td>\n",
       "      <td>21:18:39</td>\n",
       "      <td>9.0</td>\n",
       "      <td>53639</td>\n",
       "      <td>Female</td>\n",
       "      <td>Web</td>\n",
       "      <td>Member</td>\n",
       "      <td>Auto &amp; Accessories</td>\n",
       "      <td>Tyre</td>\n",
       "      <td>250.0</td>\n",
       "      <td>1.0</td>\n",
       "      <td>0.3</td>\n",
       "      <td>160.0</td>\n",
       "      <td>16.0</td>\n",
       "      <td>Critical</td>\n",
       "      <td>credit_card</td>\n",
       "      <td>2018-08-13 21:18:39</td>\n",
       "    </tr>\n",
       "  </tbody>\n",
       "</table>\n",
       "</div>"
      ],
      "text/plain": [
       "   Order_Date      Time  Aging  Customer_Id  Gender Device_Type  \\\n",
       "0  2018-01-02  10:56:33    8.0        37077  Female         Web   \n",
       "1  2018-07-24  20:41:37    2.0        59173  Female         Web   \n",
       "2  2018-11-08  08:38:49    8.0        41066  Female         Web   \n",
       "3  2018-04-18  19:28:06    7.0        50741  Female         Web   \n",
       "4  2018-08-13  21:18:39    9.0        53639  Female         Web   \n",
       "\n",
       "  Customer_Login_type    Product_Category            Product  Sales  Quantity  \\\n",
       "0              Member  Auto & Accessories  Car Media Players  140.0       1.0   \n",
       "1              Member  Auto & Accessories       Car Speakers  211.0       1.0   \n",
       "2              Member  Auto & Accessories    Car Body Covers  117.0       5.0   \n",
       "3              Member  Auto & Accessories    Car & Bike Care  118.0       1.0   \n",
       "4              Member  Auto & Accessories               Tyre  250.0       1.0   \n",
       "\n",
       "   Discount  Profit  Shipping_Cost Order_Priority Payment_method  \\\n",
       "0       0.3    46.0            4.6         Medium    credit_card   \n",
       "1       0.3   112.0           11.2         Medium    credit_card   \n",
       "2       0.1    31.2            3.1       Critical    credit_card   \n",
       "3       0.3    26.2            2.6           High    credit_card   \n",
       "4       0.3   160.0           16.0       Critical    credit_card   \n",
       "\n",
       "        order_datetime  \n",
       "0  2018-01-02 10:56:33  \n",
       "1  2018-07-24 20:41:37  \n",
       "2  2018-11-08 08:38:49  \n",
       "3  2018-04-18 19:28:06  \n",
       "4  2018-08-13 21:18:39  "
      ]
     },
     "execution_count": 49,
     "metadata": {},
     "output_type": "execute_result"
    }
   ],
   "source": [
    "df.head()"
   ]
  },
  {
   "cell_type": "code",
   "execution_count": 52,
   "id": "ee7d9f4d-620a-4e90-8321-fa02c305420b",
   "metadata": {},
   "outputs": [],
   "source": [
    "df = df.drop(['Order_Date','Time'],axis = 1)"
   ]
  },
  {
   "cell_type": "code",
   "execution_count": 53,
   "id": "a10f2c34-524f-4579-ac8f-92e38acac625",
   "metadata": {},
   "outputs": [
    {
     "data": {
      "text/html": [
       "<div>\n",
       "<style scoped>\n",
       "    .dataframe tbody tr th:only-of-type {\n",
       "        vertical-align: middle;\n",
       "    }\n",
       "\n",
       "    .dataframe tbody tr th {\n",
       "        vertical-align: top;\n",
       "    }\n",
       "\n",
       "    .dataframe thead th {\n",
       "        text-align: right;\n",
       "    }\n",
       "</style>\n",
       "<table border=\"1\" class=\"dataframe\">\n",
       "  <thead>\n",
       "    <tr style=\"text-align: right;\">\n",
       "      <th></th>\n",
       "      <th>Aging</th>\n",
       "      <th>Customer_Id</th>\n",
       "      <th>Gender</th>\n",
       "      <th>Device_Type</th>\n",
       "      <th>Customer_Login_type</th>\n",
       "      <th>Product_Category</th>\n",
       "      <th>Product</th>\n",
       "      <th>Sales</th>\n",
       "      <th>Quantity</th>\n",
       "      <th>Discount</th>\n",
       "      <th>Profit</th>\n",
       "      <th>Shipping_Cost</th>\n",
       "      <th>Order_Priority</th>\n",
       "      <th>Payment_method</th>\n",
       "      <th>order_datetime</th>\n",
       "    </tr>\n",
       "  </thead>\n",
       "  <tbody>\n",
       "    <tr>\n",
       "      <th>0</th>\n",
       "      <td>8.0</td>\n",
       "      <td>37077</td>\n",
       "      <td>Female</td>\n",
       "      <td>Web</td>\n",
       "      <td>Member</td>\n",
       "      <td>Auto &amp; Accessories</td>\n",
       "      <td>Car Media Players</td>\n",
       "      <td>140.0</td>\n",
       "      <td>1.0</td>\n",
       "      <td>0.3</td>\n",
       "      <td>46.0</td>\n",
       "      <td>4.6</td>\n",
       "      <td>Medium</td>\n",
       "      <td>credit_card</td>\n",
       "      <td>2018-01-02 10:56:33</td>\n",
       "    </tr>\n",
       "    <tr>\n",
       "      <th>1</th>\n",
       "      <td>2.0</td>\n",
       "      <td>59173</td>\n",
       "      <td>Female</td>\n",
       "      <td>Web</td>\n",
       "      <td>Member</td>\n",
       "      <td>Auto &amp; Accessories</td>\n",
       "      <td>Car Speakers</td>\n",
       "      <td>211.0</td>\n",
       "      <td>1.0</td>\n",
       "      <td>0.3</td>\n",
       "      <td>112.0</td>\n",
       "      <td>11.2</td>\n",
       "      <td>Medium</td>\n",
       "      <td>credit_card</td>\n",
       "      <td>2018-07-24 20:41:37</td>\n",
       "    </tr>\n",
       "    <tr>\n",
       "      <th>2</th>\n",
       "      <td>8.0</td>\n",
       "      <td>41066</td>\n",
       "      <td>Female</td>\n",
       "      <td>Web</td>\n",
       "      <td>Member</td>\n",
       "      <td>Auto &amp; Accessories</td>\n",
       "      <td>Car Body Covers</td>\n",
       "      <td>117.0</td>\n",
       "      <td>5.0</td>\n",
       "      <td>0.1</td>\n",
       "      <td>31.2</td>\n",
       "      <td>3.1</td>\n",
       "      <td>Critical</td>\n",
       "      <td>credit_card</td>\n",
       "      <td>2018-11-08 08:38:49</td>\n",
       "    </tr>\n",
       "    <tr>\n",
       "      <th>3</th>\n",
       "      <td>7.0</td>\n",
       "      <td>50741</td>\n",
       "      <td>Female</td>\n",
       "      <td>Web</td>\n",
       "      <td>Member</td>\n",
       "      <td>Auto &amp; Accessories</td>\n",
       "      <td>Car &amp; Bike Care</td>\n",
       "      <td>118.0</td>\n",
       "      <td>1.0</td>\n",
       "      <td>0.3</td>\n",
       "      <td>26.2</td>\n",
       "      <td>2.6</td>\n",
       "      <td>High</td>\n",
       "      <td>credit_card</td>\n",
       "      <td>2018-04-18 19:28:06</td>\n",
       "    </tr>\n",
       "    <tr>\n",
       "      <th>4</th>\n",
       "      <td>9.0</td>\n",
       "      <td>53639</td>\n",
       "      <td>Female</td>\n",
       "      <td>Web</td>\n",
       "      <td>Member</td>\n",
       "      <td>Auto &amp; Accessories</td>\n",
       "      <td>Tyre</td>\n",
       "      <td>250.0</td>\n",
       "      <td>1.0</td>\n",
       "      <td>0.3</td>\n",
       "      <td>160.0</td>\n",
       "      <td>16.0</td>\n",
       "      <td>Critical</td>\n",
       "      <td>credit_card</td>\n",
       "      <td>2018-08-13 21:18:39</td>\n",
       "    </tr>\n",
       "  </tbody>\n",
       "</table>\n",
       "</div>"
      ],
      "text/plain": [
       "   Aging  Customer_Id  Gender Device_Type Customer_Login_type  \\\n",
       "0    8.0        37077  Female         Web              Member   \n",
       "1    2.0        59173  Female         Web              Member   \n",
       "2    8.0        41066  Female         Web              Member   \n",
       "3    7.0        50741  Female         Web              Member   \n",
       "4    9.0        53639  Female         Web              Member   \n",
       "\n",
       "     Product_Category            Product  Sales  Quantity  Discount  Profit  \\\n",
       "0  Auto & Accessories  Car Media Players  140.0       1.0       0.3    46.0   \n",
       "1  Auto & Accessories       Car Speakers  211.0       1.0       0.3   112.0   \n",
       "2  Auto & Accessories    Car Body Covers  117.0       5.0       0.1    31.2   \n",
       "3  Auto & Accessories    Car & Bike Care  118.0       1.0       0.3    26.2   \n",
       "4  Auto & Accessories               Tyre  250.0       1.0       0.3   160.0   \n",
       "\n",
       "   Shipping_Cost Order_Priority Payment_method       order_datetime  \n",
       "0            4.6         Medium    credit_card  2018-01-02 10:56:33  \n",
       "1           11.2         Medium    credit_card  2018-07-24 20:41:37  \n",
       "2            3.1       Critical    credit_card  2018-11-08 08:38:49  \n",
       "3            2.6           High    credit_card  2018-04-18 19:28:06  \n",
       "4           16.0       Critical    credit_card  2018-08-13 21:18:39  "
      ]
     },
     "execution_count": 53,
     "metadata": {},
     "output_type": "execute_result"
    }
   ],
   "source": [
    "df.head()"
   ]
  },
  {
   "cell_type": "code",
   "execution_count": 54,
   "id": "6ba874ad-2efa-4ba9-b68d-5ee59e7615bd",
   "metadata": {},
   "outputs": [
    {
     "data": {
      "text/plain": [
       "Timestamp('2018-01-01 00:03:33')"
      ]
     },
     "execution_count": 54,
     "metadata": {},
     "output_type": "execute_result"
    }
   ],
   "source": [
    "order_datetime.min()"
   ]
  },
  {
   "cell_type": "code",
   "execution_count": 55,
   "id": "ec9a7916-2705-4834-856c-d8a8e3ecc0d0",
   "metadata": {},
   "outputs": [
    {
     "data": {
      "text/plain": [
       "Timestamp('2018-12-30 23:52:42')"
      ]
     },
     "execution_count": 55,
     "metadata": {},
     "output_type": "execute_result"
    }
   ],
   "source": [
    "order_datetime.max()"
   ]
  },
  {
   "cell_type": "code",
   "execution_count": 70,
   "id": "a8404d24-2cb7-4cdb-8dd2-fa536fca6673",
   "metadata": {},
   "outputs": [],
   "source": [
    "customers = list(set(df['Customer_Id'].values))"
   ]
  },
  {
   "cell_type": "code",
   "execution_count": 72,
   "id": "747027a4-6515-4659-a3c9-c785f76db78c",
   "metadata": {},
   "outputs": [],
   "source": [
    "cus_no = len(customers)"
   ]
  },
  {
   "cell_type": "code",
   "execution_count": 141,
   "id": "c49b3378-1478-4d4d-bdc3-539513a86b84",
   "metadata": {},
   "outputs": [],
   "source": [
    "buy_count = []\n",
    "for customer in customers:\n",
    "    count = len(df[df['Customer_Id']==customer].index)\n",
    "    buy_count.append(count)"
   ]
  },
  {
   "cell_type": "code",
   "execution_count": 143,
   "id": "9606fb09-f952-4fe9-91d6-30dd60fa2bc3",
   "metadata": {},
   "outputs": [],
   "source": [
    "buy_count_set = set(buy_count)"
   ]
  },
  {
   "cell_type": "code",
   "execution_count": 144,
   "id": "3e5129fa-60a5-45a5-a345-5855a4f0edcc",
   "metadata": {},
   "outputs": [
    {
     "data": {
      "text/plain": [
       "{1, 2, 3, 4, 5, 6}"
      ]
     },
     "execution_count": 144,
     "metadata": {},
     "output_type": "execute_result"
    }
   ],
   "source": [
    "buy_count_set"
   ]
  },
  {
   "cell_type": "code",
   "execution_count": 147,
   "id": "cc1c1801-1559-4451-8272-3b5756216df0",
   "metadata": {},
   "outputs": [],
   "source": [
    "np_buy_count = np.array(buy_count)"
   ]
  },
  {
   "cell_type": "code",
   "execution_count": 156,
   "id": "ec35dd99-4e98-4c99-8744-e85e36b04a92",
   "metadata": {},
   "outputs": [
    {
     "data": {
      "text/plain": [
       "array([2, 1, 1, 2, 1, 1, 1, 1, 1, 1])"
      ]
     },
     "execution_count": 156,
     "metadata": {},
     "output_type": "execute_result"
    }
   ],
   "source": [
    "np_buy_count[:10]"
   ]
  },
  {
   "cell_type": "code",
   "execution_count": 157,
   "id": "6d9a8218-b36e-48f4-a504-85a17d149e61",
   "metadata": {},
   "outputs": [
    {
     "data": {
      "text/plain": [
       "array([[36983]], dtype=int64)"
      ]
     },
     "execution_count": 157,
     "metadata": {},
     "output_type": "execute_result"
    }
   ],
   "source": [
    "np.argwhere(np_buy_count == 6)"
   ]
  },
  {
   "cell_type": "code",
   "execution_count": 160,
   "id": "f3afa842-389d-43fd-b881-942b2750a4eb",
   "metadata": {},
   "outputs": [
    {
     "ename": "TypeError",
     "evalue": "only integer scalar arrays can be converted to a scalar index",
     "output_type": "error",
     "traceback": [
      "\u001b[1;31m---------------------------------------------------------------------------\u001b[0m",
      "\u001b[1;31mTypeError\u001b[0m                                 Traceback (most recent call last)",
      "Cell \u001b[1;32mIn[160], line 1\u001b[0m\n\u001b[1;32m----> 1\u001b[0m \u001b[43mbuy_count\u001b[49m\u001b[43m[\u001b[49m\u001b[43mnp\u001b[49m\u001b[38;5;241;43m.\u001b[39;49m\u001b[43margwhere\u001b[49m\u001b[43m(\u001b[49m\u001b[43mnp_buy_count\u001b[49m\u001b[43m \u001b[49m\u001b[38;5;241;43m==\u001b[39;49m\u001b[43m \u001b[49m\u001b[38;5;241;43m6\u001b[39;49m\u001b[43m)\u001b[49m\u001b[43m]\u001b[49m\n",
      "\u001b[1;31mTypeError\u001b[0m: only integer scalar arrays can be converted to a scalar index"
     ]
    }
   ],
   "source": [
    "buy_count[]"
   ]
  },
  {
   "cell_type": "code",
   "execution_count": 123,
   "id": "bb8af751-6a0e-4768-93f8-39cbc1bbb310",
   "metadata": {},
   "outputs": [
    {
     "data": {
      "text/plain": [
       "Timedelta('373 days 04:24:00')"
      ]
     },
     "execution_count": 123,
     "metadata": {},
     "output_type": "execute_result"
    }
   ],
   "source": [
    "df.InvoiceDate.max() - df.InvoiceDate.min()"
   ]
  },
  {
   "cell_type": "code",
   "execution_count": 128,
   "id": "7bdac676-623a-45e6-95e8-3322ca743bf8",
   "metadata": {},
   "outputs": [],
   "source": [
    "countries = df['Country'].value_counts(normalize=True)"
   ]
  },
  {
   "cell_type": "code",
   "execution_count": 129,
   "id": "4d1a282b-2a6d-4faf-ae51-0e66daca29da",
   "metadata": {},
   "outputs": [
    {
     "data": {
      "text/plain": [
       "Country\n",
       "United Kingdom          0.889509\n",
       "Germany                 0.023339\n",
       "France                  0.020871\n",
       "EIRE                    0.018398\n",
       "Spain                   0.006226\n",
       "Netherlands             0.005828\n",
       "Belgium                 0.005086\n",
       "Switzerland             0.004614\n",
       "Portugal                0.003638\n",
       "Australia               0.003095\n",
       "Norway                  0.002669\n",
       "Italy                   0.001974\n",
       "Channel Islands         0.001863\n",
       "Finland                 0.001708\n",
       "Cyprus                  0.001529\n",
       "Sweden                  0.001136\n",
       "Austria                 0.000986\n",
       "Denmark                 0.000956\n",
       "Japan                   0.000880\n",
       "Poland                  0.000838\n",
       "USA                     0.000715\n",
       "Israel                  0.000615\n",
       "Unspecified             0.000600\n",
       "Singapore               0.000563\n",
       "Iceland                 0.000447\n",
       "Canada                  0.000371\n",
       "Greece                  0.000359\n",
       "Malta                   0.000312\n",
       "United Arab Emirates    0.000167\n",
       "European Community      0.000150\n",
       "RSA                     0.000143\n",
       "Lebanon                 0.000111\n",
       "Lithuania               0.000086\n",
       "Brazil                  0.000079\n",
       "Czech Republic          0.000074\n",
       "Bahrain                 0.000042\n",
       "Saudi Arabia            0.000025\n",
       "Name: proportion, dtype: float64"
      ]
     },
     "execution_count": 129,
     "metadata": {},
     "output_type": "execute_result"
    }
   ],
   "source": [
    "countries"
   ]
  },
  {
   "cell_type": "code",
   "execution_count": 144,
   "id": "71f833d1-bc0b-42ac-94b1-6f2c3c59f5bb",
   "metadata": {},
   "outputs": [
    {
     "name": "stdout",
     "output_type": "stream",
     "text": [
      "Total number of customers:  4372\n"
     ]
    }
   ],
   "source": [
    "customers = list(set(df[\"CustomerID\"].values))\n",
    "print(\"Total number of customers: \", len(customers))"
   ]
  },
  {
   "cell_type": "code",
   "execution_count": 156,
   "id": "c36f6dce-77da-44b5-8a82-2d8e9904f501",
   "metadata": {},
   "outputs": [
    {
     "data": {
      "text/html": [
       "<div>\n",
       "<style scoped>\n",
       "    .dataframe tbody tr th:only-of-type {\n",
       "        vertical-align: middle;\n",
       "    }\n",
       "\n",
       "    .dataframe tbody tr th {\n",
       "        vertical-align: top;\n",
       "    }\n",
       "\n",
       "    .dataframe thead th {\n",
       "        text-align: right;\n",
       "    }\n",
       "</style>\n",
       "<table border=\"1\" class=\"dataframe\">\n",
       "  <thead>\n",
       "    <tr style=\"text-align: right;\">\n",
       "      <th></th>\n",
       "      <th>StockCode</th>\n",
       "      <th>Quantity</th>\n",
       "    </tr>\n",
       "  </thead>\n",
       "  <tbody>\n",
       "    <tr>\n",
       "      <th>2812</th>\n",
       "      <td>84077</td>\n",
       "      <td>53215</td>\n",
       "    </tr>\n",
       "    <tr>\n",
       "      <th>1092</th>\n",
       "      <td>22197</td>\n",
       "      <td>48712</td>\n",
       "    </tr>\n",
       "    <tr>\n",
       "      <th>3235</th>\n",
       "      <td>85099B</td>\n",
       "      <td>45066</td>\n",
       "    </tr>\n",
       "    <tr>\n",
       "      <th>3069</th>\n",
       "      <td>84879</td>\n",
       "      <td>35314</td>\n",
       "    </tr>\n",
       "    <tr>\n",
       "      <th>3249</th>\n",
       "      <td>85123A</td>\n",
       "      <td>34204</td>\n",
       "    </tr>\n",
       "    <tr>\n",
       "      <th>...</th>\n",
       "      <td>...</td>\n",
       "      <td>...</td>\n",
       "    </tr>\n",
       "    <tr>\n",
       "      <th>379</th>\n",
       "      <td>21144</td>\n",
       "      <td>-12</td>\n",
       "    </tr>\n",
       "    <tr>\n",
       "      <th>3678</th>\n",
       "      <td>CRUK</td>\n",
       "      <td>-16</td>\n",
       "    </tr>\n",
       "    <tr>\n",
       "      <th>690</th>\n",
       "      <td>21645</td>\n",
       "      <td>-24</td>\n",
       "    </tr>\n",
       "    <tr>\n",
       "      <th>3679</th>\n",
       "      <td>D</td>\n",
       "      <td>-1194</td>\n",
       "    </tr>\n",
       "    <tr>\n",
       "      <th>2844</th>\n",
       "      <td>84347</td>\n",
       "      <td>-1460</td>\n",
       "    </tr>\n",
       "  </tbody>\n",
       "</table>\n",
       "<p>3684 rows × 2 columns</p>\n",
       "</div>"
      ],
      "text/plain": [
       "     StockCode  Quantity\n",
       "2812     84077     53215\n",
       "1092     22197     48712\n",
       "3235    85099B     45066\n",
       "3069     84879     35314\n",
       "3249    85123A     34204\n",
       "...        ...       ...\n",
       "379      21144       -12\n",
       "3678      CRUK       -16\n",
       "690      21645       -24\n",
       "3679         D     -1194\n",
       "2844     84347     -1460\n",
       "\n",
       "[3684 rows x 2 columns]"
      ]
     },
     "execution_count": 156,
     "metadata": {},
     "output_type": "execute_result"
    }
   ],
   "source": [
    "import matplotlib.pyplot as plt\n",
    "\n",
    "best_sell = (df.groupby(['StockCode'])['Quantity'].sum().reset_index()).sort_values(by=['Quantity'], ascending =False )\n",
    "best_sell"
   ]
  },
  {
   "cell_type": "code",
   "execution_count": 158,
   "id": "e0974493-19f4-4d17-bade-2100732943c4",
   "metadata": {},
   "outputs": [
    {
     "data": {
      "text/plain": [
       "<Axes: xlabel='StockCode'>"
      ]
     },
     "execution_count": 158,
     "metadata": {},
     "output_type": "execute_result"
    },
    {
     "data": {
      "image/png": "[encoded data removed]",
      "text/plain": [
       "<Figure size 640x480 with 1 Axes>"
      ]
     },
     "metadata": {},
     "output_type": "display_data"
    }
   ],
   "source": [
    "best_sell[:10].plot(kind='bar',x = \"StockCode\", y = \"Quantity\")"
   ]
  },
  {
   "cell_type": "code",
   "execution_count": 160,
   "id": "9e1145a2-03c7-47c2-96f3-87f125e01b70",
   "metadata": {},
   "outputs": [],
   "source": [
    "time_based_df = df.set_index(\"InvoiceDate\")"
   ]
  },
  {
   "cell_type": "code",
   "execution_count": 163,
   "id": "d05a5683-e320-4442-9228-3409446876d2",
   "metadata": {},
   "outputs": [
    {
     "data": {
      "text/plain": [
       "InvoiceDate\n",
       "2011-03-21 10:13:00    200\n",
       "2011-09-11 11:19:00     60\n",
       "Name: Quantity, dtype: int64"
      ]
     },
     "execution_count": 163,
     "metadata": {},
     "output_type": "execute_result"
    }
   ],
   "source": [
    "time_based_df[time_based_df['CustomerID']==customers[0]].groupby(\"InvoiceDate\")['Quantity'].sum()"
   ]
  },
  {
   "cell_type": "code",
   "execution_count": 187,
   "id": "ec1b478b-2a29-40cd-974f-8e333d959a09",
   "metadata": {},
   "outputs": [],
   "source": [
    "shopping_date = []\n",
    "quantity = []\n",
    "total_buy = []\n",
    "for customer in customers:\n",
    "    cus_data = time_based_df[time_based_df['CustomerID']==customer].groupby(\"InvoiceDate\")[['Quantity','UnitPrice']].sum()\n",
    "    shopping_date.append(cus_data.index)\n",
    "    quantity.append(cus_data['Quantity'].values)\n",
    "    total_buy.append(cus_data['UnitPrice'].values)"
   ]
  },
  {
   "cell_type": "code",
   "execution_count": 186,
   "id": "674251f5-be46-482d-9e62-1b724126feca",
   "metadata": {},
   "outputs": [
    {
     "data": {
      "text/plain": [
       "array([200,  60], dtype=int64)"
      ]
     },
     "execution_count": 186,
     "metadata": {},
     "output_type": "execute_result"
    }
   ],
   "source": [
    "time_based_df[time_based_df['CustomerID']==customers[0]].groupby(\"InvoiceDate\")[['Quantity','UnitPrice']].sum()['Quantity'].values"
   ]
  },
  {
   "cell_type": "code",
   "execution_count": 231,
   "id": "8995d5d7-32a0-4631-953a-4fe1e00fd1e1",
   "metadata": {},
   "outputs": [
    {
     "data": {
      "image/png": "[encoded data removed]",
      "text/plain": [
       "<Figure size 640x480 with 1 Axes>"
      ]
     },
     "metadata": {},
     "output_type": "display_data"
    }
   ],
   "source": [
    "for i in range(1,40):\n",
    "    plt.scatter(shopping_date[i-1],quantity[i-1])-"
   ]
  },
  {
   "cell_type": "code",
   "execution_count": 235,
   "id": "d462adce-7942-4912-8cc7-851bcdb59f7c",
   "metadata": {},
   "outputs": [],
   "source": [
    "import time\n",
    "unixtime = time.mktime(shopping_date[0][0].timetuple())"
   ]
  },
  {
   "cell_type": "code",
   "execution_count": 242,
   "id": "0103d244-7e6f-4c49-b643-769397860091",
   "metadata": {},
   "outputs": [
    {
     "data": {
      "text/plain": [
       "<Axes: >"
      ]
     },
     "execution_count": 242,
     "metadata": {},
     "output_type": "execute_result"
    },
    {
     "data": {
      "image/png": "[encoded data removed]",
      "text/plain": [
       "<Figure size 640x480 with 1 Axes>"
      ]
     },
     "metadata": {},
     "output_type": "display_data"
    }
   ],
   "source": [
    "import seaborn as sns\n",
    "sns.lineplot(quantity[:50])"
   ]
  },
  {
   "cell_type": "code",
   "execution_count": 251,
   "id": "2ede356f-3f2b-44c8-96c7-1327e325b9b0",
   "metadata": {},
   "outputs": [
    {
     "data": {
      "text/html": [
       "<div>\n",
       "<style scoped>\n",
       "    .dataframe tbody tr th:only-of-type {\n",
       "        vertical-align: middle;\n",
       "    }\n",
       "\n",
       "    .dataframe tbody tr th {\n",
       "        vertical-align: top;\n",
       "    }\n",
       "\n",
       "    .dataframe thead th {\n",
       "        text-align: right;\n",
       "    }\n",
       "</style>\n",
       "<table border=\"1\" class=\"dataframe\">\n",
       "  <thead>\n",
       "    <tr style=\"text-align: right;\">\n",
       "      <th></th>\n",
       "      <th>StockCode</th>\n",
       "      <th>CustomerID</th>\n",
       "    </tr>\n",
       "  </thead>\n",
       "  <tbody>\n",
       "    <tr>\n",
       "      <th>0</th>\n",
       "      <td>85123A</td>\n",
       "      <td>17850.0</td>\n",
       "    </tr>\n",
       "    <tr>\n",
       "      <th>1</th>\n",
       "      <td>71053</td>\n",
       "      <td>17850.0</td>\n",
       "    </tr>\n",
       "    <tr>\n",
       "      <th>2</th>\n",
       "      <td>84406B</td>\n",
       "      <td>17850.0</td>\n",
       "    </tr>\n",
       "    <tr>\n",
       "      <th>3</th>\n",
       "      <td>84029G</td>\n",
       "      <td>17850.0</td>\n",
       "    </tr>\n",
       "    <tr>\n",
       "      <th>4</th>\n",
       "      <td>84029E</td>\n",
       "      <td>17850.0</td>\n",
       "    </tr>\n",
       "    <tr>\n",
       "      <th>...</th>\n",
       "      <td>...</td>\n",
       "      <td>...</td>\n",
       "    </tr>\n",
       "    <tr>\n",
       "      <th>541904</th>\n",
       "      <td>22613</td>\n",
       "      <td>12680.0</td>\n",
       "    </tr>\n",
       "    <tr>\n",
       "      <th>541905</th>\n",
       "      <td>22899</td>\n",
       "      <td>12680.0</td>\n",
       "    </tr>\n",
       "    <tr>\n",
       "      <th>541906</th>\n",
       "      <td>23254</td>\n",
       "      <td>12680.0</td>\n",
       "    </tr>\n",
       "    <tr>\n",
       "      <th>541907</th>\n",
       "      <td>23255</td>\n",
       "      <td>12680.0</td>\n",
       "    </tr>\n",
       "    <tr>\n",
       "      <th>541908</th>\n",
       "      <td>22138</td>\n",
       "      <td>12680.0</td>\n",
       "    </tr>\n",
       "  </tbody>\n",
       "</table>\n",
       "<p>406829 rows × 2 columns</p>\n",
       "</div>"
      ],
      "text/plain": [
       "       StockCode  CustomerID\n",
       "0         85123A     17850.0\n",
       "1          71053     17850.0\n",
       "2         84406B     17850.0\n",
       "3         84029G     17850.0\n",
       "4         84029E     17850.0\n",
       "...          ...         ...\n",
       "541904     22613     12680.0\n",
       "541905     22899     12680.0\n",
       "541906     23254     12680.0\n",
       "541907     23255     12680.0\n",
       "541908     22138     12680.0\n",
       "\n",
       "[406829 rows x 2 columns]"
      ]
     },
     "execution_count": 251,
     "metadata": {},
     "output_type": "execute_result"
    }
   ],
   "source": [
    "df[['StockCode','CustomerID']]"
   ]
  },
  {
   "cell_type": "code",
   "execution_count": null,
   "id": "b4714d2e-5da5-4777-866e-33ca89b1454e",
   "metadata": {},
   "outputs": [],
   "source": []
  }
 ],
 "metadata": {
  "kernelspec": {
   "display_name": "Python 3 (ipykernel)",
   "language": "python",
   "name": "python3"
  },
  "language_info": {
   "codemirror_mode": {
    "name": "ipython",
    "version": 3
   },
   "file_extension": ".py",
   "mimetype": "text/x-python",
   "name": "python",
   "nbconvert_exporter": "python",
   "pygments_lexer": "ipython3",
   "version": "3.10.11"
  }
 },
 "nbformat": 4,
 "nbformat_minor": 5
}
